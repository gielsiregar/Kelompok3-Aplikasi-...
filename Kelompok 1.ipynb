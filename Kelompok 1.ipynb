{
 "cells": [
  {
   "cell_type": "code",
   "execution_count": null,
   "id": "d7f0e317-47fd-4cb2-a4a8-45da491760b5",
   "metadata": {},
   "outputs": [],
   "source": [
    "import speech_recognition as sr\n",
    "\n",
    "print(\"Selamat datang di program intel AI 4 YOUTH\")\n",
    "print(\"Kelompok 1\")\n",
    "print(\"1. Konversi suara ke teks (INPUT MIC)\")\n",
    "\n",
    "engine = sr.Recognizer()\n",
    "mic = sr.Microphone()\n",
    "hasil = \"\"\n",
    "\n",
    "with mic as source:\n",
    "    print(\"Mulai berbicara\")\n",
    "    rekaman = engine.listen(source)\n",
    "    print(\"Waktu habis\")\n",
    "    \n",
    "    try:\n",
    "        hasil = engine.recognize_google(rekaman, language = \"id-ID\")\n",
    "        print(hasil)\n",
    "    except engine.UnknownValueError:\n",
    "        print(\"Tidak terdeteksi, coba lagi\")\n",
    "    except Exception as e:\n",
    "        print(e)"
   ]
  },
  {
   "cell_type": "code",
   "execution_count": null,
   "id": "cca29354-a011-4fce-ac4c-98506f9bf346",
   "metadata": {},
   "outputs": [],
   "source": []
  },
  {
   "cell_type": "code",
   "execution_count": null,
   "id": "7ddd5136-bbfa-49f4-a99e-8e250c7bdd8b",
   "metadata": {},
   "outputs": [],
   "source": []
  }
 ],
 "metadata": {
  "kernelspec": {
   "display_name": "Python 3 (ipykernel)",
   "language": "python",
   "name": "python3"
  },
  "language_info": {
   "codemirror_mode": {
    "name": "ipython",
    "version": 3
   },
   "file_extension": ".py",
   "mimetype": "text/x-python",
   "name": "python",
   "nbconvert_exporter": "python",
   "pygments_lexer": "ipython3",
   "version": "3.10.8"
  }
 },
 "nbformat": 4,
 "nbformat_minor": 5
}
